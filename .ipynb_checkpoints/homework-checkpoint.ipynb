{
 "cells": [
  {
   "cell_type": "code",
   "execution_count": 1,
   "metadata": {
    "collapsed": true
   },
   "outputs": [],
   "source": [
    "import re\n",
    "from nltk.corpus import stopwords\n",
    "import nltk.data\n",
    "import logging\n",
    "import numpy as np\n",
    "from bs4 import BeautifulSoup\n",
    "from gensim.models import word2vec\n",
    "from sklearn.ensemble import RandomForestClassifier\n",
    "from sklearn import metrics\n",
    "from sklearn.feature_extraction.text import CountVectorizer, TfidfVectorizer\n",
    "from sklearn.linear_model import LogisticRegression\n",
    "from sklearn import cross_validation\n",
    "import pandas as pd\n",
    "from sklearn.naive_bayes import MultinomialNB"
   ]
  },
  {
   "cell_type": "code",
   "execution_count": 7,
   "metadata": {
    "collapsed": true
   },
   "outputs": [],
   "source": [
    "def review2words(raw_review):\n",
    "    review_text = BeautifulSoup(raw_review, \"lxml\").get_text()\n",
    "    letters_only = re.sub(\"[^a-zA-Z]\", \" \", review_text)\n",
    "    words = letters_only.lower().split()\n",
    "    stops = set(stopwords.words(\"english\"))\n",
    "    meaningful_words = [w for w in words if not w in stops]\n",
    "    return \" \".join(meaningful_words)\n",
    "\n",
    "def review2sentences(review, tokenizer):\n",
    "    raw_sentences = tokenizer.tokenize(review.strip())\n",
    "    sentences = []\n",
    "    for raw_sentence in raw_sentences:\n",
    "        if len(raw_sentence) > 0:\n",
    "            sentences.append(review_to_words(raw_sentence))\n",
    "    return sentences"
   ]
  },
  {
   "cell_type": "code",
   "execution_count": 19,
   "metadata": {
    "collapsed": false
   },
   "outputs": [],
   "source": [
    "train = pd.read_csv(\"labeledTrainData.tsv\", header=0, delimiter=\"\\t\", quoting=3)\n",
    "test = pd.read_csv('testData.tsv', header=0, delimiter=\"\\t\", quoting=3)\n",
    "#unlabeled_train = pd.read_csv(\"unlabeledTrainData.tsv\", header=0,  delimiter=\"\\t\", quoting=3)"
   ]
  },
  {
   "cell_type": "code",
   "execution_count": null,
   "metadata": {
    "collapsed": false
   },
   "outputs": [],
   "source": [
    "clean_train_reviews = []\n",
    "for i in range(train[\"review\"].size):\n",
    "    clean_train_reviews.append(review2words(train[\"review\"][i]))\n",
    "clean_test_reviews = []\n",
    "for i in range(len(test[\"review\"])):\n",
    "    clean_test_reviews.append(review2words(test[\"review\"][i]))"
   ]
  },
  {
   "cell_type": "code",
   "execution_count": 24,
   "metadata": {
    "collapsed": true
   },
   "outputs": [],
   "source": [
    "unlabeled_clean_train_reviews = []\n",
    "for i in range(unlabeled_train[\"review\"].size):\n",
    "    unlabeled_clean_train_reviews.append(review_to_words(unlabeled_train[\"review\"][i]))"
   ]
  },
  {
   "cell_type": "code",
   "execution_count": 28,
   "metadata": {
    "collapsed": false
   },
   "outputs": [],
   "source": [
    "# tfv = TfidfVectorizer(min_df=3,  max_features=None, \n",
    "#         strip_accents='unicode', analyzer='word',token_pattern=r'\\w{1,}',\n",
    "#         ngram_range=(1, 2), use_idf=1,smooth_idf=1,sublinear_tf=1,\n",
    "#         stop_words = 'english')\n",
    "# X_all = clean_train_reviews + clean_test_reviews\n",
    "# lentrain = len(clean_train_reviews)\n",
    "# y = train[\"sentiment\"]\n",
    "# tfv.fit(X_all)\n",
    "tfv = TfidfVectorizer(min_df=2, max_df=0.95, max_features = 200000, ngram_range = (1, 2), sublinear_tf = True)\n",
    "vectorizer = tfv.fit(clean_train_reviews + unlabeled_clean_train_reviews)\n",
    "train_data_features = vectorizer.transform(clean_train_reviews)\n",
    "test_data_features = vectorizer.transform(clean_test_reviews)\n",
    "model1 = MultinomialNB(alpha=0.0005)\n",
    "# X_all = tfv.transform(X_all)\n",
    "# X = X_all[:lentrain]\n",
    "# X_test = X_all[lentrain:]\n",
    "# model = LogisticRegression(penalty='l2', dual=True, tol=0.0001, \n",
    "#                          C=1, fit_intercept=True, intercept_scaling=1.0, \n",
    "#                          class_weight=None, random_state=None)\n",
    "# print(\"20 Fold CV Score: \", np.mean(cross_validation.cross_val_score(model, X, y, cv=20, scoring='roc_auc')))"
   ]
  },
  {
   "cell_type": "code",
   "execution_count": 32,
   "metadata": {
    "collapsed": false
   },
   "outputs": [],
   "source": [
    "# model.fit(X,y)\n",
    "from sklearn.feature_selection.univariate_selection import SelectKBest, chi2, f_classif\n",
    "fselect = SelectKBest(chi2 , k=70000)\n",
    "train_data_features = fselect.fit_transform(train_data_features, train[\"sentiment\"])\n",
    "test_data_features = fselect.transform(test_data_features)\n",
    "model1 = MultinomialNB(alpha=0.0005)\n"
   ]
  },
  {
   "cell_type": "code",
   "execution_count": 35,
   "metadata": {
    "collapsed": false
   },
   "outputs": [
    {
     "name": "stdout",
     "output_type": "stream",
     "text": [
      "25000 25000\n"
     ]
    }
   ],
   "source": [
    "from sklearn.linear_model import SGDClassifier\n",
    "model2 = SGDClassifier(loss='modified_huber', n_iter=5, random_state=0, shuffle=True)\n",
    "model2.fit(train_data_features, train[\"sentiment\"])\n",
    "result = model2.predict_proba(test_data_features)[:,1]\n",
    "output = pd.DataFrame(data={\"id\":test[\"id\"], \"sentiment\":result})\n",
    "output.to_csv('Bag_of_Words_model.csv', index=False, quoting=3)\n",
    "print(len(result), len(output))"
   ]
  },
  {
   "cell_type": "code",
   "execution_count": 9,
   "metadata": {
    "collapsed": false
   },
   "outputs": [],
   "source": [
    "vectorizer = CountVectorizer(analyzer=\"word\",\n",
    "                         tokenizer=None,\n",
    "                         preprocessor=None,\n",
    "                         stop_words=None,\n",
    "                         max_features=5000)\n",
    "train_data_features = vectorizer.fit_transform(clean_train_reviews)\n",
    "train_data_features = train_data_features.toarray()\n",
    "forest = RandomForestClassifier(n_estimators=100)\n",
    "forest = forest.fit(train_data_features, train[\"sentiment\"])\n",
    "test_data_features = vectorizer.transform(clean_test_reviews)\n",
    "test_data_features = test_data_features.toarray()\n",
    "result = forest.predict(test_data_features)"
   ]
  },
  {
   "cell_type": "code",
   "execution_count": 15,
   "metadata": {
    "collapsed": false
   },
   "outputs": [],
   "source": [
    "output = pd.DataFrame(data={\"id\":test[\"id\"], \"sentiment\":result})\n",
    "output.to_csv('Bag_of_Words_model.csv', index=False, quoting=3)"
   ]
  },
  {
   "cell_type": "code",
   "execution_count": null,
   "metadata": {
    "collapsed": true
   },
   "outputs": [],
   "source": [
    "logging.basicConfig(format='%(asctime)s : %(levelname)s : %(message)s', level=logging.INFO)\n",
    "model = word2vec.Word2Vec(sentences, min_count=40, size=300, workers=4, window=10, seed=1, sample=1e-3)\n",
    "model.init_sims(replace=True)\n",
    "model.syn0.shape\n",
    "trainDataVecs = getAvgFeatureVecs(getCleanReviews(train), model, 300)\n",
    "testDataVecs = getAvgFeatureVecs(getCleanReviews(test), model, 300)\n",
    "forest = RandomForestClassifier(n_estimators = 100)\n",
    "forest = forest.fit(trainDataVecs, train[\"sentiment\"])\n",
    "result = forest.predict(testDataVecs)\n",
    "output = pd.DataFrame(data={\"id\":test[\"id\"], \"sentiment\":result})"
   ]
  }
 ],
 "metadata": {
  "kernelspec": {
   "display_name": "Python 3",
   "language": "python",
   "name": "python3"
  },
  "language_info": {
   "codemirror_mode": {
    "name": "ipython",
    "version": 3
   },
   "file_extension": ".py",
   "mimetype": "text/x-python",
   "name": "python",
   "nbconvert_exporter": "python",
   "pygments_lexer": "ipython3",
   "version": "3.5.1"
  }
 },
 "nbformat": 4,
 "nbformat_minor": 0
}
