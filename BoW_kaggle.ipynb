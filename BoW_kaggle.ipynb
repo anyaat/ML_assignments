{
 "cells": [
  {
   "cell_type": "markdown",
   "metadata": {},
   "source": [
    "В результате экспериментов с моделью \"Bag_of_Words\" удалось добиться точности 0,94061 (это между 198 и 199 позициями в списке лидеров). Использовала Multinomial Naive Bayes классификатор и TfidfVectorizer со следующими параметрами: учет биграмм и триграмм, логарифмированные документные частоты (sublinear_tf=True), неограниченное количество признаков, максимальной документная частота  0,95 (из 1), минимальная документная частота 2. (Только Multinomial Naive Bayes и TfidfVectorizer уже дают 0.91261.)\n",
    "\n",
    "Изначально, при следовании тьюториалу kaggle, точность была 0.84608, с добавлении биграмм (ngram_range = (1, 2)) -- 0.84632. Пробовала использовать стоп-слова из sklearn, но точность несколько понизилась -- 0.84102, стемминг, как оказалось, также не способствует повышению точности (про сложности лемматизации английских слов упоминала в первом задании). Также пробовала некоторые другие классификаторы (SVM, BernoulliNB, SGDLClassifier) с различными параметрами, наилучший результат был у SVM -- 0,9099.\n",
    "\n",
    "Изменение коэффициента сглаживания (alpha в Multinomial Naive Bayes) и использование различных вариаций Ngramm при подсчтете tf-idf не позволяет достичь точности более 0,94061."
   ]
  },
  {
   "cell_type": "code",
   "execution_count": 13,
   "metadata": {
    "collapsed": true
   },
   "outputs": [],
   "source": [
    "import re\n",
    "import pandas as pd\n",
    "from nltk.corpus import stopwords\n",
    "from sklearn.feature_extraction.text import TfidfVectorizer\n",
    "from sklearn.naive_bayes import MultinomialNB\n",
    "from bs4 import BeautifulSoup\n",
    "\n",
    "# from nltk.stem.porter import *\n",
    "# stemmer = PorterStemmer()\n",
    "# def stem_tokens(tokens, stemmer):\n",
    "#     stemmed = []\n",
    "#     for item in tokens:\n",
    "#         stemmed.append(stemmer.stem(item))\n",
    "#     return stemmed\n",
    "\n",
    "def review2words(raw_review):\n",
    "    review_text = BeautifulSoup(raw_review, \"lxml\").get_text()\n",
    "    letters_only = re.sub(\"[^a-zA-Z]\", \" \", review_text)\n",
    "    words = letters_only.lower().split()\n",
    "    stops = set(stopwords.words(\"english\"))\n",
    "    meaningful_words = [w for w in words if not w in stops]\n",
    "#    meaningful_words = stem_tokens(meaningful_words, stemmer)\n",
    "    return \" \".join(meaningful_words)"
   ]
  },
  {
   "cell_type": "code",
   "execution_count": 14,
   "metadata": {
    "collapsed": false
   },
   "outputs": [
    {
     "name": "stdout",
     "output_type": "stream",
     "text": [
      "25000 25000\n"
     ]
    }
   ],
   "source": [
    "train = pd.read_csv(\"/home/anya/python/word2vec/labeledTrainData.tsv\", header=0, delimiter=\"\\t\", quoting=3)\n",
    "test = pd.read_csv('/home/anya/python/word2vec/testData.tsv', header=0, delimiter=\"\\t\", quoting=3)\n",
    "clean_train_reviews = []\n",
    "for i in range(train[\"review\"].size):\n",
    "    clean_train_reviews.append(review2words(train[\"review\"][i]))\n",
    "clean_test_reviews = []\n",
    "for i in range(test[\"review\"].size):\n",
    "    clean_test_reviews.append(review2words(test[\"review\"][i]))\n",
    "print(len(clean_train_reviews), len(clean_test_reviews))"
   ]
  },
  {
   "cell_type": "code",
   "execution_count": 15,
   "metadata": {
    "collapsed": true
   },
   "outputs": [],
   "source": [
    "tfv = TfidfVectorizer(min_df=2, max_df=0.95, max_features=None, ngram_range = (1, 3), sublinear_tf=True)\n",
    "vectorizer = tfv.fit(clean_train_reviews)\n",
    "train_data_features = vectorizer.transform(clean_train_reviews)\n",
    "test_data_features = vectorizer.transform(clean_test_reviews)"
   ]
  },
  {
   "cell_type": "code",
   "execution_count": 16,
   "metadata": {
    "collapsed": true
   },
   "outputs": [],
   "source": [
    "model = MultinomialNB(alpha=0.1)\n",
    "model.fit(train_data_features, train[\"sentiment\"])\n",
    "result = model.predict_proba(test_data_features)[:,1]\n",
    "output = pd.DataFrame(data={\"id\":test[\"id\"], \"sentiment\":result})\n",
    "output.to_csv('/home/anya/python/word2vec/Bag_of_Words_model.csv', index=False, quoting=3)"
   ]
  }
 ],
 "metadata": {
  "kernelspec": {
   "display_name": "Python 3",
   "language": "python",
   "name": "python3"
  },
  "language_info": {
   "codemirror_mode": {
    "name": "ipython",
    "version": 3
   },
   "file_extension": ".py",
   "mimetype": "text/x-python",
   "name": "python",
   "nbconvert_exporter": "python",
   "pygments_lexer": "ipython3",
   "version": "3.5.2"
  }
 },
 "nbformat": 4,
 "nbformat_minor": 0
}
